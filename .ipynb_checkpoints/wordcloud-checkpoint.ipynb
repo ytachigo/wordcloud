{
 "cells": [
  {
   "cell_type": "code",
   "execution_count": 89,
   "metadata": {},
   "outputs": [],
   "source": [
    "import numpy as np\n",
    "import PyPDF2\n",
    "from wordcloud import WordCloud\n",
    "import MeCab"
   ]
  },
  {
   "cell_type": "code",
   "execution_count": 90,
   "metadata": {},
   "outputs": [],
   "source": [
    "# Read PDF files\n",
    "content = ''\n",
    "\n",
    "for i in range(0,3):\n",
    "    file_path = 'paper%d.pdf' %i\n",
    "    with open(file_path, mode='rb') as f:\n",
    "        reader = PyPDF2.PdfFileReader(f)\n",
    "\n",
    "        for j in range(0, reader.numPages):\n",
    "            page = reader.getPage(j)\n",
    "            content += page.extractText()"
   ]
  },
  {
   "cell_type": "code",
   "execution_count": 91,
   "metadata": {},
   "outputs": [],
   "source": [
    "# separating words in Japanese with spaces\n",
    "wakati = MeCab.Tagger(\"-Owakati\")\n",
    "words = wakati.parse(content)"
   ]
  },
  {
   "cell_type": "code",
   "execution_count": 92,
   "metadata": {},
   "outputs": [
    {
     "data": {
      "text/plain": [
       "<wordcloud.wordcloud.WordCloud at 0x10d5cf518>"
      ]
     },
     "execution_count": 92,
     "metadata": {},
     "output_type": "execute_result"
    }
   ],
   "source": [
    "# Generate a word cloud \n",
    "wordcloud = WordCloud(background_color='white', \n",
    "                      stopwords={'Figure', 'Fig', 'the', \n",
    "                                 'of', 'and', 'in', 'on', \n",
    "                                 'at', 'to', 'is', 'are', \n",
    "                                 'was', 'were', 'each', \n",
    "                                 'between', 'from', 'that', \n",
    "                                 'when', 'which', 'we', \n",
    "                                 'show', 'shows', 'number', \n",
    "                                 'Japan', 'Aichi', 'Nagoya', \n",
    "                                 'Okazaki', 'University',\n",
    "                                 'NagoyaUniversity', \n",
    "                                 'GraduateschoolofScience'},\n",
    "                      collocations=False, width=480, height=320)\n",
    "wordcloud.generate(words)"
   ]
  },
  {
   "cell_type": "code",
   "execution_count": null,
   "metadata": {},
   "outputs": [],
   "source": []
  }
 ],
 "metadata": {
  "kernelspec": {
   "display_name": "Python 3",
   "language": "python",
   "name": "python3"
  },
  "language_info": {
   "codemirror_mode": {
    "name": "ipython",
    "version": 3
   },
   "file_extension": ".py",
   "mimetype": "text/x-python",
   "name": "python",
   "nbconvert_exporter": "python",
   "pygments_lexer": "ipython3",
   "version": "3.6.7"
  }
 },
 "nbformat": 4,
 "nbformat_minor": 2
}
